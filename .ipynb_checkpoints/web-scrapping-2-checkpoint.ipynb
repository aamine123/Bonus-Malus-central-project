{
 "cells": [
  {
   "cell_type": "code",
   "execution_count": 44,
   "metadata": {},
   "outputs": [],
   "source": [
    "from selenium import webdriver\n",
    "import pandas as pd\n",
    "import matplotlib.pyplot as plt\n",
    "import seaborn as sns\n",
    "import matplotlib.ticker as ticker"
   ]
  },
  {
   "cell_type": "code",
   "execution_count": 13,
   "metadata": {},
   "outputs": [
    {
     "name": "stderr",
     "output_type": "stream",
     "text": [
      "<ipython-input-13-abaefab57b14>:5: DeprecationWarning: use options instead of chrome_options\n",
      "  driver = webdriver.Chrome('C:/Users/Amine/Documents/chromedriver.exe', chrome_options=chrome_options)\n"
     ]
    }
   ],
   "source": [
    "#Disable chrome options\n",
    "chrome_options = webdriver.ChromeOptions()\n",
    "prefs = {\"profile.default_content_setting_values.notifications\": 2}\n",
    "chrome_options.add_experimental_option(\"prefs\",prefs)\n",
    "driver = webdriver.Chrome('C:/Users/Amine/Documents/chromedriver.exe', chrome_options=chrome_options)"
   ]
  },
  {
   "cell_type": "code",
   "execution_count": 14,
   "metadata": {},
   "outputs": [],
   "source": [
    "driver.get(\"https://lemeilleur.tn/assurance-tunisie/?fbclid=IwAR2RqjD2Ie5iVDqSrERooPEyI1tiexOWfzgiGYyOmcZ-xG8HaLgXpS8SdOc\")\n"
   ]
  },
  {
   "cell_type": "code",
   "execution_count": 18,
   "metadata": {},
   "outputs": [],
   "source": [
    "elements=driver.find_element_by_id('polls-20')  "
   ]
  },
  {
   "cell_type": "code",
   "execution_count": 21,
   "metadata": {},
   "outputs": [
    {
     "data": {
      "text/plain": [
       "\"Quelle est la meilleure société d'assurance en Tunisie\\nAMI assurance\\nAstree assurance\\nAt-Takafulia\\nCarte assurance\\nCOMAR\\nGAT assurance\\nHayett assurance\\nLloyd assurance\\nMAE - Mutuelle Assurance de l'Enseignement\\nMaghrebia assurance\\nStar assurance\\nZitouna takaful\\nVoir les résultats\""
      ]
     },
     "execution_count": 21,
     "metadata": {},
     "output_type": "execute_result"
    }
   ],
   "source": [
    "elements.texta="
   ]
  },
  {
   "cell_type": "code",
   "execution_count": 16,
   "metadata": {},
   "outputs": [],
   "source": [
    "x=elements.text"
   ]
  },
  {
   "cell_type": "code",
   "execution_count": 17,
   "metadata": {},
   "outputs": [
    {
     "data": {
      "text/plain": [
       "\"Quelle est la meilleure société d'assurance en Tunisie\\nAMI assurance\\nAstree assurance\\nAt-Takafulia\\nCarte assurance\\nCOMAR\\nGAT assurance\\nHayett assurance\\nLloyd assurance\\nMAE - Mutuelle Assurance de l'Enseignement\\nMaghrebia assurance\\nStar assurance\\nZitouna takaful\\nVoir les résultats\""
      ]
     },
     "execution_count": 17,
     "metadata": {},
     "output_type": "execute_result"
    }
   ],
   "source": [
    "x"
   ]
  },
  {
   "cell_type": "code",
   "execution_count": 7,
   "metadata": {},
   "outputs": [],
   "source": [
    "data=x.split(\"\\n\")"
   ]
  },
  {
   "cell_type": "code",
   "execution_count": 8,
   "metadata": {},
   "outputs": [
    {
     "data": {
      "text/plain": [
       "[\"Quelle est la meilleure société d'assurance en Tunisie\",\n",
       " 'AMI assurance',\n",
       " 'Astree assurance',\n",
       " 'At-Takafulia',\n",
       " 'Carte assurance',\n",
       " 'COMAR',\n",
       " 'GAT assurance',\n",
       " 'Hayett assurance',\n",
       " 'Lloyd assurance',\n",
       " \"MAE - Mutuelle Assurance de l'Enseignement\",\n",
       " 'Maghrebia assurance',\n",
       " 'Star assurance',\n",
       " 'Zitouna takaful',\n",
       " 'Voir les résultats']"
      ]
     },
     "execution_count": 8,
     "metadata": {},
     "output_type": "execute_result"
    }
   ],
   "source": [
    "data"
   ]
  },
  {
   "cell_type": "code",
   "execution_count": 9,
   "metadata": {},
   "outputs": [],
   "source": [
    "del(data[13])"
   ]
  },
  {
   "cell_type": "code",
   "execution_count": 10,
   "metadata": {},
   "outputs": [],
   "source": [
    "data[0]=\"Compagnie_Name ( Pourcentage\""
   ]
  },
  {
   "cell_type": "code",
   "execution_count": 11,
   "metadata": {},
   "outputs": [
    {
     "data": {
      "text/plain": [
       "['Compagnie_Name ( Pourcentage',\n",
       " 'AMI assurance',\n",
       " 'Astree assurance',\n",
       " 'At-Takafulia',\n",
       " 'Carte assurance',\n",
       " 'COMAR',\n",
       " 'GAT assurance',\n",
       " 'Hayett assurance',\n",
       " 'Lloyd assurance',\n",
       " \"MAE - Mutuelle Assurance de l'Enseignement\",\n",
       " 'Maghrebia assurance',\n",
       " 'Star assurance',\n",
       " 'Zitouna takaful']"
      ]
     },
     "execution_count": 11,
     "metadata": {},
     "output_type": "execute_result"
    }
   ],
   "source": [
    "data"
   ]
  },
  {
   "cell_type": "code",
   "execution_count": 325,
   "metadata": {},
   "outputs": [],
   "source": [
    "newdata=[]\n",
    "for i in data:\n",
    "    r=i.split('(')\n",
    "    newdata.append(r)"
   ]
  },
  {
   "cell_type": "code",
   "execution_count": 326,
   "metadata": {},
   "outputs": [
    {
     "data": {
      "text/plain": [
       "[['Compagnie_Name ', ' Pourcentage'],\n",
       " ['AMI assurance ', '18%, 149 Votes)'],\n",
       " ['Star assurance ', '16%, 134 Votes)'],\n",
       " ['COMAR ', '13%, 109 Votes)'],\n",
       " ['GAT assurance ', '12%, 98 Votes)'],\n",
       " [\"MAE - Mutuelle Assurance de l'Enseignement \", '8%, 67 Votes)'],\n",
       " ['Zitouna takaful ', '7%, 59 Votes)'],\n",
       " ['Maghrebia assurance ', '7%, 58 Votes)'],\n",
       " ['Carte assurance ', '5%, 42 Votes)'],\n",
       " ['Lloyd assurance ', '5%, 42 Votes)'],\n",
       " ['At-Takafulia ', '4%, 32 Votes)'],\n",
       " ['Astree assurance ', '4%, 30 Votes)'],\n",
       " ['Hayett assurance ', '1%, 7 Votes)']]"
      ]
     },
     "execution_count": 326,
     "metadata": {},
     "output_type": "execute_result"
    }
   ],
   "source": [
    "newdata"
   ]
  },
  {
   "cell_type": "code",
   "execution_count": 327,
   "metadata": {},
   "outputs": [],
   "source": [
    "import xlsxwriter"
   ]
  },
  {
   "cell_type": "code",
   "execution_count": 336,
   "metadata": {},
   "outputs": [],
   "source": [
    "with xlsxwriter.Workbook('avi.xlsx') as workbook:\n",
    "    worksheet = workbook.add_worksheet()\n",
    "\n",
    "    for row_num, data in enumerate(newdata):\n",
    "        worksheet.write_row(row_num, 0, data)"
   ]
  },
  {
   "cell_type": "code",
   "execution_count": null,
   "metadata": {},
   "outputs": [],
   "source": []
  },
  {
   "cell_type": "code",
   "execution_count": 22,
   "metadata": {},
   "outputs": [],
   "source": [
    "data=pd.read_excel('avi.xlsx')"
   ]
  },
  {
   "cell_type": "code",
   "execution_count": 23,
   "metadata": {},
   "outputs": [
    {
     "data": {
      "text/html": [
       "<div>\n",
       "<style scoped>\n",
       "    .dataframe tbody tr th:only-of-type {\n",
       "        vertical-align: middle;\n",
       "    }\n",
       "\n",
       "    .dataframe tbody tr th {\n",
       "        vertical-align: top;\n",
       "    }\n",
       "\n",
       "    .dataframe thead th {\n",
       "        text-align: right;\n",
       "    }\n",
       "</style>\n",
       "<table border=\"1\" class=\"dataframe\">\n",
       "  <thead>\n",
       "    <tr style=\"text-align: right;\">\n",
       "      <th></th>\n",
       "      <th>Compagnie_Name</th>\n",
       "      <th>Pourcentage</th>\n",
       "    </tr>\n",
       "  </thead>\n",
       "  <tbody>\n",
       "    <tr>\n",
       "      <th>0</th>\n",
       "      <td>AMI assurance</td>\n",
       "      <td>18%, 149 Votes)</td>\n",
       "    </tr>\n",
       "    <tr>\n",
       "      <th>1</th>\n",
       "      <td>Star assurance</td>\n",
       "      <td>16%, 134 Votes)</td>\n",
       "    </tr>\n",
       "    <tr>\n",
       "      <th>2</th>\n",
       "      <td>COMAR</td>\n",
       "      <td>13%, 109 Votes)</td>\n",
       "    </tr>\n",
       "    <tr>\n",
       "      <th>3</th>\n",
       "      <td>GAT assurance</td>\n",
       "      <td>12%, 98 Votes)</td>\n",
       "    </tr>\n",
       "    <tr>\n",
       "      <th>4</th>\n",
       "      <td>MAE - Mutuelle Assurance de l'Enseignement</td>\n",
       "      <td>8%, 67 Votes)</td>\n",
       "    </tr>\n",
       "    <tr>\n",
       "      <th>5</th>\n",
       "      <td>Zitouna takaful</td>\n",
       "      <td>7%, 59 Votes)</td>\n",
       "    </tr>\n",
       "    <tr>\n",
       "      <th>6</th>\n",
       "      <td>Maghrebia assurance</td>\n",
       "      <td>7%, 58 Votes)</td>\n",
       "    </tr>\n",
       "    <tr>\n",
       "      <th>7</th>\n",
       "      <td>Carte assurance</td>\n",
       "      <td>5%, 42 Votes)</td>\n",
       "    </tr>\n",
       "    <tr>\n",
       "      <th>8</th>\n",
       "      <td>Lloyd assurance</td>\n",
       "      <td>5%, 42 Votes)</td>\n",
       "    </tr>\n",
       "    <tr>\n",
       "      <th>9</th>\n",
       "      <td>At-Takafulia</td>\n",
       "      <td>4%, 32 Votes)</td>\n",
       "    </tr>\n",
       "    <tr>\n",
       "      <th>10</th>\n",
       "      <td>Astree assurance</td>\n",
       "      <td>4%, 30 Votes)</td>\n",
       "    </tr>\n",
       "    <tr>\n",
       "      <th>11</th>\n",
       "      <td>Hayett assurance</td>\n",
       "      <td>1%, 7 Votes)</td>\n",
       "    </tr>\n",
       "  </tbody>\n",
       "</table>\n",
       "</div>"
      ],
      "text/plain": [
       "                                 Compagnie_Name      Pourcentage\n",
       "0                                AMI assurance   18%, 149 Votes)\n",
       "1                               Star assurance   16%, 134 Votes)\n",
       "2                                        COMAR   13%, 109 Votes)\n",
       "3                                GAT assurance    12%, 98 Votes)\n",
       "4   MAE - Mutuelle Assurance de l'Enseignement     8%, 67 Votes)\n",
       "5                              Zitouna takaful     7%, 59 Votes)\n",
       "6                          Maghrebia assurance     7%, 58 Votes)\n",
       "7                              Carte assurance     5%, 42 Votes)\n",
       "8                              Lloyd assurance     5%, 42 Votes)\n",
       "9                                 At-Takafulia     4%, 32 Votes)\n",
       "10                            Astree assurance     4%, 30 Votes)\n",
       "11                            Hayett assurance      1%, 7 Votes)"
      ]
     },
     "execution_count": 23,
     "metadata": {},
     "output_type": "execute_result"
    }
   ],
   "source": [
    "data"
   ]
  },
  {
   "cell_type": "code",
   "execution_count": 24,
   "metadata": {},
   "outputs": [],
   "source": [
    "data.columns = ['Compagnie_Name', 'Pourcentage']\n"
   ]
  },
  {
   "cell_type": "code",
   "execution_count": 25,
   "metadata": {},
   "outputs": [
    {
     "data": {
      "text/html": [
       "<div>\n",
       "<style scoped>\n",
       "    .dataframe tbody tr th:only-of-type {\n",
       "        vertical-align: middle;\n",
       "    }\n",
       "\n",
       "    .dataframe tbody tr th {\n",
       "        vertical-align: top;\n",
       "    }\n",
       "\n",
       "    .dataframe thead th {\n",
       "        text-align: right;\n",
       "    }\n",
       "</style>\n",
       "<table border=\"1\" class=\"dataframe\">\n",
       "  <thead>\n",
       "    <tr style=\"text-align: right;\">\n",
       "      <th></th>\n",
       "      <th>Compagnie_Name</th>\n",
       "      <th>Pourcentage</th>\n",
       "    </tr>\n",
       "  </thead>\n",
       "  <tbody>\n",
       "    <tr>\n",
       "      <th>0</th>\n",
       "      <td>AMI assurance</td>\n",
       "      <td>18%, 149 Votes)</td>\n",
       "    </tr>\n",
       "    <tr>\n",
       "      <th>1</th>\n",
       "      <td>Star assurance</td>\n",
       "      <td>16%, 134 Votes)</td>\n",
       "    </tr>\n",
       "    <tr>\n",
       "      <th>2</th>\n",
       "      <td>COMAR</td>\n",
       "      <td>13%, 109 Votes)</td>\n",
       "    </tr>\n",
       "    <tr>\n",
       "      <th>3</th>\n",
       "      <td>GAT assurance</td>\n",
       "      <td>12%, 98 Votes)</td>\n",
       "    </tr>\n",
       "    <tr>\n",
       "      <th>4</th>\n",
       "      <td>MAE - Mutuelle Assurance de l'Enseignement</td>\n",
       "      <td>8%, 67 Votes)</td>\n",
       "    </tr>\n",
       "    <tr>\n",
       "      <th>5</th>\n",
       "      <td>Zitouna takaful</td>\n",
       "      <td>7%, 59 Votes)</td>\n",
       "    </tr>\n",
       "    <tr>\n",
       "      <th>6</th>\n",
       "      <td>Maghrebia assurance</td>\n",
       "      <td>7%, 58 Votes)</td>\n",
       "    </tr>\n",
       "    <tr>\n",
       "      <th>7</th>\n",
       "      <td>Carte assurance</td>\n",
       "      <td>5%, 42 Votes)</td>\n",
       "    </tr>\n",
       "    <tr>\n",
       "      <th>8</th>\n",
       "      <td>Lloyd assurance</td>\n",
       "      <td>5%, 42 Votes)</td>\n",
       "    </tr>\n",
       "    <tr>\n",
       "      <th>9</th>\n",
       "      <td>At-Takafulia</td>\n",
       "      <td>4%, 32 Votes)</td>\n",
       "    </tr>\n",
       "    <tr>\n",
       "      <th>10</th>\n",
       "      <td>Astree assurance</td>\n",
       "      <td>4%, 30 Votes)</td>\n",
       "    </tr>\n",
       "    <tr>\n",
       "      <th>11</th>\n",
       "      <td>Hayett assurance</td>\n",
       "      <td>1%, 7 Votes)</td>\n",
       "    </tr>\n",
       "  </tbody>\n",
       "</table>\n",
       "</div>"
      ],
      "text/plain": [
       "                                 Compagnie_Name      Pourcentage\n",
       "0                                AMI assurance   18%, 149 Votes)\n",
       "1                               Star assurance   16%, 134 Votes)\n",
       "2                                        COMAR   13%, 109 Votes)\n",
       "3                                GAT assurance    12%, 98 Votes)\n",
       "4   MAE - Mutuelle Assurance de l'Enseignement     8%, 67 Votes)\n",
       "5                              Zitouna takaful     7%, 59 Votes)\n",
       "6                          Maghrebia assurance     7%, 58 Votes)\n",
       "7                              Carte assurance     5%, 42 Votes)\n",
       "8                              Lloyd assurance     5%, 42 Votes)\n",
       "9                                 At-Takafulia     4%, 32 Votes)\n",
       "10                            Astree assurance     4%, 30 Votes)\n",
       "11                            Hayett assurance      1%, 7 Votes)"
      ]
     },
     "execution_count": 25,
     "metadata": {},
     "output_type": "execute_result"
    }
   ],
   "source": [
    "data"
   ]
  },
  {
   "cell_type": "code",
   "execution_count": 26,
   "metadata": {},
   "outputs": [
    {
     "data": {
      "text/html": [
       "<div>\n",
       "<style scoped>\n",
       "    .dataframe tbody tr th:only-of-type {\n",
       "        vertical-align: middle;\n",
       "    }\n",
       "\n",
       "    .dataframe tbody tr th {\n",
       "        vertical-align: top;\n",
       "    }\n",
       "\n",
       "    .dataframe thead th {\n",
       "        text-align: right;\n",
       "    }\n",
       "</style>\n",
       "<table border=\"1\" class=\"dataframe\">\n",
       "  <thead>\n",
       "    <tr style=\"text-align: right;\">\n",
       "      <th></th>\n",
       "      <th>0</th>\n",
       "      <th>1</th>\n",
       "      <th>2</th>\n",
       "    </tr>\n",
       "  </thead>\n",
       "  <tbody>\n",
       "    <tr>\n",
       "      <th>0</th>\n",
       "      <td>18%,</td>\n",
       "      <td>149</td>\n",
       "      <td>Votes)</td>\n",
       "    </tr>\n",
       "    <tr>\n",
       "      <th>1</th>\n",
       "      <td>16%,</td>\n",
       "      <td>134</td>\n",
       "      <td>Votes)</td>\n",
       "    </tr>\n",
       "    <tr>\n",
       "      <th>2</th>\n",
       "      <td>13%,</td>\n",
       "      <td>109</td>\n",
       "      <td>Votes)</td>\n",
       "    </tr>\n",
       "    <tr>\n",
       "      <th>3</th>\n",
       "      <td>12%,</td>\n",
       "      <td>98</td>\n",
       "      <td>Votes)</td>\n",
       "    </tr>\n",
       "    <tr>\n",
       "      <th>4</th>\n",
       "      <td>8%,</td>\n",
       "      <td>67</td>\n",
       "      <td>Votes)</td>\n",
       "    </tr>\n",
       "    <tr>\n",
       "      <th>5</th>\n",
       "      <td>7%,</td>\n",
       "      <td>59</td>\n",
       "      <td>Votes)</td>\n",
       "    </tr>\n",
       "    <tr>\n",
       "      <th>6</th>\n",
       "      <td>7%,</td>\n",
       "      <td>58</td>\n",
       "      <td>Votes)</td>\n",
       "    </tr>\n",
       "    <tr>\n",
       "      <th>7</th>\n",
       "      <td>5%,</td>\n",
       "      <td>42</td>\n",
       "      <td>Votes)</td>\n",
       "    </tr>\n",
       "    <tr>\n",
       "      <th>8</th>\n",
       "      <td>5%,</td>\n",
       "      <td>42</td>\n",
       "      <td>Votes)</td>\n",
       "    </tr>\n",
       "    <tr>\n",
       "      <th>9</th>\n",
       "      <td>4%,</td>\n",
       "      <td>32</td>\n",
       "      <td>Votes)</td>\n",
       "    </tr>\n",
       "    <tr>\n",
       "      <th>10</th>\n",
       "      <td>4%,</td>\n",
       "      <td>30</td>\n",
       "      <td>Votes)</td>\n",
       "    </tr>\n",
       "    <tr>\n",
       "      <th>11</th>\n",
       "      <td>1%,</td>\n",
       "      <td>7</td>\n",
       "      <td>Votes)</td>\n",
       "    </tr>\n",
       "  </tbody>\n",
       "</table>\n",
       "</div>"
      ],
      "text/plain": [
       "       0    1       2\n",
       "0   18%,  149  Votes)\n",
       "1   16%,  134  Votes)\n",
       "2   13%,  109  Votes)\n",
       "3   12%,   98  Votes)\n",
       "4    8%,   67  Votes)\n",
       "5    7%,   59  Votes)\n",
       "6    7%,   58  Votes)\n",
       "7    5%,   42  Votes)\n",
       "8    5%,   42  Votes)\n",
       "9    4%,   32  Votes)\n",
       "10   4%,   30  Votes)\n",
       "11   1%,    7  Votes)"
      ]
     },
     "execution_count": 26,
     "metadata": {},
     "output_type": "execute_result"
    }
   ],
   "source": [
    "data.Pourcentage.str.split(expand=True,)"
   ]
  },
  {
   "cell_type": "code",
   "execution_count": 27,
   "metadata": {},
   "outputs": [],
   "source": [
    "data[['Pourcentage','Nombre','f1']]=data.Pourcentage.str.split(expand=True,)"
   ]
  },
  {
   "cell_type": "code",
   "execution_count": 28,
   "metadata": {},
   "outputs": [
    {
     "data": {
      "text/html": [
       "<div>\n",
       "<style scoped>\n",
       "    .dataframe tbody tr th:only-of-type {\n",
       "        vertical-align: middle;\n",
       "    }\n",
       "\n",
       "    .dataframe tbody tr th {\n",
       "        vertical-align: top;\n",
       "    }\n",
       "\n",
       "    .dataframe thead th {\n",
       "        text-align: right;\n",
       "    }\n",
       "</style>\n",
       "<table border=\"1\" class=\"dataframe\">\n",
       "  <thead>\n",
       "    <tr style=\"text-align: right;\">\n",
       "      <th></th>\n",
       "      <th>Compagnie_Name</th>\n",
       "      <th>Pourcentage</th>\n",
       "      <th>Nombre</th>\n",
       "      <th>f1</th>\n",
       "    </tr>\n",
       "  </thead>\n",
       "  <tbody>\n",
       "    <tr>\n",
       "      <th>0</th>\n",
       "      <td>AMI assurance</td>\n",
       "      <td>18%,</td>\n",
       "      <td>149</td>\n",
       "      <td>Votes)</td>\n",
       "    </tr>\n",
       "    <tr>\n",
       "      <th>1</th>\n",
       "      <td>Star assurance</td>\n",
       "      <td>16%,</td>\n",
       "      <td>134</td>\n",
       "      <td>Votes)</td>\n",
       "    </tr>\n",
       "    <tr>\n",
       "      <th>2</th>\n",
       "      <td>COMAR</td>\n",
       "      <td>13%,</td>\n",
       "      <td>109</td>\n",
       "      <td>Votes)</td>\n",
       "    </tr>\n",
       "    <tr>\n",
       "      <th>3</th>\n",
       "      <td>GAT assurance</td>\n",
       "      <td>12%,</td>\n",
       "      <td>98</td>\n",
       "      <td>Votes)</td>\n",
       "    </tr>\n",
       "    <tr>\n",
       "      <th>4</th>\n",
       "      <td>MAE - Mutuelle Assurance de l'Enseignement</td>\n",
       "      <td>8%,</td>\n",
       "      <td>67</td>\n",
       "      <td>Votes)</td>\n",
       "    </tr>\n",
       "    <tr>\n",
       "      <th>5</th>\n",
       "      <td>Zitouna takaful</td>\n",
       "      <td>7%,</td>\n",
       "      <td>59</td>\n",
       "      <td>Votes)</td>\n",
       "    </tr>\n",
       "    <tr>\n",
       "      <th>6</th>\n",
       "      <td>Maghrebia assurance</td>\n",
       "      <td>7%,</td>\n",
       "      <td>58</td>\n",
       "      <td>Votes)</td>\n",
       "    </tr>\n",
       "    <tr>\n",
       "      <th>7</th>\n",
       "      <td>Carte assurance</td>\n",
       "      <td>5%,</td>\n",
       "      <td>42</td>\n",
       "      <td>Votes)</td>\n",
       "    </tr>\n",
       "    <tr>\n",
       "      <th>8</th>\n",
       "      <td>Lloyd assurance</td>\n",
       "      <td>5%,</td>\n",
       "      <td>42</td>\n",
       "      <td>Votes)</td>\n",
       "    </tr>\n",
       "    <tr>\n",
       "      <th>9</th>\n",
       "      <td>At-Takafulia</td>\n",
       "      <td>4%,</td>\n",
       "      <td>32</td>\n",
       "      <td>Votes)</td>\n",
       "    </tr>\n",
       "    <tr>\n",
       "      <th>10</th>\n",
       "      <td>Astree assurance</td>\n",
       "      <td>4%,</td>\n",
       "      <td>30</td>\n",
       "      <td>Votes)</td>\n",
       "    </tr>\n",
       "    <tr>\n",
       "      <th>11</th>\n",
       "      <td>Hayett assurance</td>\n",
       "      <td>1%,</td>\n",
       "      <td>7</td>\n",
       "      <td>Votes)</td>\n",
       "    </tr>\n",
       "  </tbody>\n",
       "</table>\n",
       "</div>"
      ],
      "text/plain": [
       "                                 Compagnie_Name Pourcentage Nombre      f1\n",
       "0                                AMI assurance         18%,    149  Votes)\n",
       "1                               Star assurance         16%,    134  Votes)\n",
       "2                                        COMAR         13%,    109  Votes)\n",
       "3                                GAT assurance         12%,     98  Votes)\n",
       "4   MAE - Mutuelle Assurance de l'Enseignement          8%,     67  Votes)\n",
       "5                              Zitouna takaful          7%,     59  Votes)\n",
       "6                          Maghrebia assurance          7%,     58  Votes)\n",
       "7                              Carte assurance          5%,     42  Votes)\n",
       "8                              Lloyd assurance          5%,     42  Votes)\n",
       "9                                 At-Takafulia          4%,     32  Votes)\n",
       "10                            Astree assurance          4%,     30  Votes)\n",
       "11                            Hayett assurance          1%,      7  Votes)"
      ]
     },
     "execution_count": 28,
     "metadata": {},
     "output_type": "execute_result"
    }
   ],
   "source": [
    "data"
   ]
  },
  {
   "cell_type": "code",
   "execution_count": 29,
   "metadata": {},
   "outputs": [],
   "source": [
    "data=data.drop('f1',axis=1)"
   ]
  },
  {
   "cell_type": "code",
   "execution_count": 30,
   "metadata": {},
   "outputs": [
    {
     "data": {
      "text/html": [
       "<div>\n",
       "<style scoped>\n",
       "    .dataframe tbody tr th:only-of-type {\n",
       "        vertical-align: middle;\n",
       "    }\n",
       "\n",
       "    .dataframe tbody tr th {\n",
       "        vertical-align: top;\n",
       "    }\n",
       "\n",
       "    .dataframe thead th {\n",
       "        text-align: right;\n",
       "    }\n",
       "</style>\n",
       "<table border=\"1\" class=\"dataframe\">\n",
       "  <thead>\n",
       "    <tr style=\"text-align: right;\">\n",
       "      <th></th>\n",
       "      <th>Compagnie_Name</th>\n",
       "      <th>Pourcentage</th>\n",
       "      <th>Nombre</th>\n",
       "    </tr>\n",
       "  </thead>\n",
       "  <tbody>\n",
       "    <tr>\n",
       "      <th>0</th>\n",
       "      <td>AMI assurance</td>\n",
       "      <td>18%,</td>\n",
       "      <td>149</td>\n",
       "    </tr>\n",
       "    <tr>\n",
       "      <th>1</th>\n",
       "      <td>Star assurance</td>\n",
       "      <td>16%,</td>\n",
       "      <td>134</td>\n",
       "    </tr>\n",
       "    <tr>\n",
       "      <th>2</th>\n",
       "      <td>COMAR</td>\n",
       "      <td>13%,</td>\n",
       "      <td>109</td>\n",
       "    </tr>\n",
       "    <tr>\n",
       "      <th>3</th>\n",
       "      <td>GAT assurance</td>\n",
       "      <td>12%,</td>\n",
       "      <td>98</td>\n",
       "    </tr>\n",
       "    <tr>\n",
       "      <th>4</th>\n",
       "      <td>MAE - Mutuelle Assurance de l'Enseignement</td>\n",
       "      <td>8%,</td>\n",
       "      <td>67</td>\n",
       "    </tr>\n",
       "    <tr>\n",
       "      <th>5</th>\n",
       "      <td>Zitouna takaful</td>\n",
       "      <td>7%,</td>\n",
       "      <td>59</td>\n",
       "    </tr>\n",
       "    <tr>\n",
       "      <th>6</th>\n",
       "      <td>Maghrebia assurance</td>\n",
       "      <td>7%,</td>\n",
       "      <td>58</td>\n",
       "    </tr>\n",
       "    <tr>\n",
       "      <th>7</th>\n",
       "      <td>Carte assurance</td>\n",
       "      <td>5%,</td>\n",
       "      <td>42</td>\n",
       "    </tr>\n",
       "    <tr>\n",
       "      <th>8</th>\n",
       "      <td>Lloyd assurance</td>\n",
       "      <td>5%,</td>\n",
       "      <td>42</td>\n",
       "    </tr>\n",
       "    <tr>\n",
       "      <th>9</th>\n",
       "      <td>At-Takafulia</td>\n",
       "      <td>4%,</td>\n",
       "      <td>32</td>\n",
       "    </tr>\n",
       "    <tr>\n",
       "      <th>10</th>\n",
       "      <td>Astree assurance</td>\n",
       "      <td>4%,</td>\n",
       "      <td>30</td>\n",
       "    </tr>\n",
       "    <tr>\n",
       "      <th>11</th>\n",
       "      <td>Hayett assurance</td>\n",
       "      <td>1%,</td>\n",
       "      <td>7</td>\n",
       "    </tr>\n",
       "  </tbody>\n",
       "</table>\n",
       "</div>"
      ],
      "text/plain": [
       "                                 Compagnie_Name Pourcentage Nombre\n",
       "0                                AMI assurance         18%,    149\n",
       "1                               Star assurance         16%,    134\n",
       "2                                        COMAR         13%,    109\n",
       "3                                GAT assurance         12%,     98\n",
       "4   MAE - Mutuelle Assurance de l'Enseignement          8%,     67\n",
       "5                              Zitouna takaful          7%,     59\n",
       "6                          Maghrebia assurance          7%,     58\n",
       "7                              Carte assurance          5%,     42\n",
       "8                              Lloyd assurance          5%,     42\n",
       "9                                 At-Takafulia          4%,     32\n",
       "10                            Astree assurance          4%,     30\n",
       "11                            Hayett assurance          1%,      7"
      ]
     },
     "execution_count": 30,
     "metadata": {},
     "output_type": "execute_result"
    }
   ],
   "source": [
    "data"
   ]
  },
  {
   "cell_type": "code",
   "execution_count": 31,
   "metadata": {},
   "outputs": [
    {
     "data": {
      "text/plain": [
       "Compagnie_Name    object\n",
       "Pourcentage       object\n",
       "Nombre            object\n",
       "dtype: object"
      ]
     },
     "execution_count": 31,
     "metadata": {},
     "output_type": "execute_result"
    }
   ],
   "source": [
    "data.dtypes"
   ]
  },
  {
   "cell_type": "code",
   "execution_count": 32,
   "metadata": {},
   "outputs": [
    {
     "data": {
      "text/plain": [
       "dtype('int64')"
      ]
     },
     "execution_count": 32,
     "metadata": {},
     "output_type": "execute_result"
    }
   ],
   "source": [
    "data[\"Nombre\"] = data[\"Nombre\"].astype(\"int64\") \n",
    "data[\"Nombre\"].dtype"
   ]
  },
  {
   "cell_type": "code",
   "execution_count": 38,
   "metadata": {},
   "outputs": [],
   "source": [
    "data['Pourcentage'] =data['Pourcentage'].str.replace(\"%,\",\" \")"
   ]
  },
  {
   "cell_type": "code",
   "execution_count": 40,
   "metadata": {},
   "outputs": [
    {
     "data": {
      "text/plain": [
       "0     18\n",
       "1     16\n",
       "2     13\n",
       "3     12\n",
       "4      8\n",
       "5      7\n",
       "6      7\n",
       "7      5\n",
       "8      5\n",
       "9      4\n",
       "10     4\n",
       "11     1\n",
       "Name: Pourcentage, dtype: object"
      ]
     },
     "execution_count": 40,
     "metadata": {},
     "output_type": "execute_result"
    }
   ],
   "source": [
    "data[\"Pourcentage\"]"
   ]
  },
  {
   "cell_type": "code",
   "execution_count": 41,
   "metadata": {},
   "outputs": [
    {
     "data": {
      "text/plain": [
       "dtype('int64')"
      ]
     },
     "execution_count": 41,
     "metadata": {},
     "output_type": "execute_result"
    }
   ],
   "source": [
    "data[\"Pourcentage\"] = data[\"Pourcentage\"].astype(\"int64\") \n",
    "data[\"Pourcentage\"].dtype"
   ]
  },
  {
   "cell_type": "code",
   "execution_count": 42,
   "metadata": {},
   "outputs": [
    {
     "data": {
      "text/plain": [
       "Compagnie_Name    object\n",
       "Pourcentage        int64\n",
       "Nombre             int64\n",
       "dtype: object"
      ]
     },
     "execution_count": 42,
     "metadata": {},
     "output_type": "execute_result"
    }
   ],
   "source": [
    "data.dtypes"
   ]
  },
  {
   "cell_type": "code",
   "execution_count": 43,
   "metadata": {},
   "outputs": [
    {
     "data": {
      "text/html": [
       "<div>\n",
       "<style scoped>\n",
       "    .dataframe tbody tr th:only-of-type {\n",
       "        vertical-align: middle;\n",
       "    }\n",
       "\n",
       "    .dataframe tbody tr th {\n",
       "        vertical-align: top;\n",
       "    }\n",
       "\n",
       "    .dataframe thead th {\n",
       "        text-align: right;\n",
       "    }\n",
       "</style>\n",
       "<table border=\"1\" class=\"dataframe\">\n",
       "  <thead>\n",
       "    <tr style=\"text-align: right;\">\n",
       "      <th></th>\n",
       "      <th>Compagnie_Name</th>\n",
       "      <th>Pourcentage</th>\n",
       "      <th>Nombre</th>\n",
       "    </tr>\n",
       "  </thead>\n",
       "  <tbody>\n",
       "    <tr>\n",
       "      <th>0</th>\n",
       "      <td>AMI assurance</td>\n",
       "      <td>18</td>\n",
       "      <td>149</td>\n",
       "    </tr>\n",
       "    <tr>\n",
       "      <th>1</th>\n",
       "      <td>Star assurance</td>\n",
       "      <td>16</td>\n",
       "      <td>134</td>\n",
       "    </tr>\n",
       "    <tr>\n",
       "      <th>2</th>\n",
       "      <td>COMAR</td>\n",
       "      <td>13</td>\n",
       "      <td>109</td>\n",
       "    </tr>\n",
       "    <tr>\n",
       "      <th>3</th>\n",
       "      <td>GAT assurance</td>\n",
       "      <td>12</td>\n",
       "      <td>98</td>\n",
       "    </tr>\n",
       "    <tr>\n",
       "      <th>4</th>\n",
       "      <td>MAE - Mutuelle Assurance de l'Enseignement</td>\n",
       "      <td>8</td>\n",
       "      <td>67</td>\n",
       "    </tr>\n",
       "    <tr>\n",
       "      <th>5</th>\n",
       "      <td>Zitouna takaful</td>\n",
       "      <td>7</td>\n",
       "      <td>59</td>\n",
       "    </tr>\n",
       "    <tr>\n",
       "      <th>6</th>\n",
       "      <td>Maghrebia assurance</td>\n",
       "      <td>7</td>\n",
       "      <td>58</td>\n",
       "    </tr>\n",
       "    <tr>\n",
       "      <th>7</th>\n",
       "      <td>Carte assurance</td>\n",
       "      <td>5</td>\n",
       "      <td>42</td>\n",
       "    </tr>\n",
       "    <tr>\n",
       "      <th>8</th>\n",
       "      <td>Lloyd assurance</td>\n",
       "      <td>5</td>\n",
       "      <td>42</td>\n",
       "    </tr>\n",
       "    <tr>\n",
       "      <th>9</th>\n",
       "      <td>At-Takafulia</td>\n",
       "      <td>4</td>\n",
       "      <td>32</td>\n",
       "    </tr>\n",
       "    <tr>\n",
       "      <th>10</th>\n",
       "      <td>Astree assurance</td>\n",
       "      <td>4</td>\n",
       "      <td>30</td>\n",
       "    </tr>\n",
       "    <tr>\n",
       "      <th>11</th>\n",
       "      <td>Hayett assurance</td>\n",
       "      <td>1</td>\n",
       "      <td>7</td>\n",
       "    </tr>\n",
       "  </tbody>\n",
       "</table>\n",
       "</div>"
      ],
      "text/plain": [
       "                                 Compagnie_Name  Pourcentage  Nombre\n",
       "0                                AMI assurance            18     149\n",
       "1                               Star assurance            16     134\n",
       "2                                        COMAR            13     109\n",
       "3                                GAT assurance            12      98\n",
       "4   MAE - Mutuelle Assurance de l'Enseignement             8      67\n",
       "5                              Zitouna takaful             7      59\n",
       "6                          Maghrebia assurance             7      58\n",
       "7                              Carte assurance             5      42\n",
       "8                              Lloyd assurance             5      42\n",
       "9                                 At-Takafulia             4      32\n",
       "10                            Astree assurance             4      30\n",
       "11                            Hayett assurance             1       7"
      ]
     },
     "execution_count": 43,
     "metadata": {},
     "output_type": "execute_result"
    }
   ],
   "source": [
    "data"
   ]
  },
  {
   "cell_type": "code",
   "execution_count": 63,
   "metadata": {},
   "outputs": [
    {
     "data": {
      "image/png": "[encoded data removed]",
      "text/plain": [
       "<Figure size 720x720 with 1 Axes>"
      ]
     },
     "metadata": {},
     "output_type": "display_data"
    }
   ],
   "source": [
    "import matplotlib.pyplot as plt\n",
    "\n",
    "# Pie chart, where the slices will be ordered and plotted counter-clockwise:\n",
    "labels = 'AMI', 'STAR', 'COMAR', 'GAT','MAE','ZITOUNA','Maghrebia','CARTE','LLOYD','AT-TAKAFULIA','ASTREE','HAYETT'\n",
    "sizes = data['Pourcentage']\n",
    "explode = (0.1,0.1,0.1,0.1,0.1,0.1,0.1,0.1,0.1,0.1,0.1,0.1) \n",
    "fig1, ax1 = plt.subplots(figsize=(10,10))\n",
    "ax1.pie(sizes,explode=explode, labels=labels, autopct='%1.1f%%',\n",
    "        shadow=True, startangle=90)\n",
    "ax1.axis('equal')  # Equal aspect ratio ensures that pie is drawn as a circle.\n",
    "\n",
    "plt.show()"
   ]
  },
  {
   "cell_type": "code",
   "execution_count": 86,
   "metadata": {},
   "outputs": [
    {
     "data": {
      "image/png": "[encoded data removed]",
      "text/plain": [
       "<Figure size 432x288 with 1 Axes>"
      ]
     },
     "metadata": {
      "needs_background": "light"
     },
     "output_type": "display_data"
    }
   ],
   "source": [
    "x = ['AMI', 'STAR', 'COMAR', 'GAT','MAE','ZITOUNA','Maghrebia','CARTE','LLOYD','AT-TAKAFULIA','ASTREE','HAYETT']\n",
    "energy = data['Nombre']\n",
    "\n",
    "\n",
    "x_pos = [i for i, _ in enumerate(x)]\n",
    "\n",
    "plt.barh(x_pos, energy, color='green')\n",
    "plt.ylabel(\"Assurance\")\n",
    "plt.xlabel(\"Nombre de client\")\n",
    "plt.title(\"Nombre de client par assurance\")\n",
    "\n",
    "plt.yticks(x_pos, x)\n",
    "plt.show()"
   ]
  },
  {
   "cell_type": "code",
   "execution_count": null,
   "metadata": {},
   "outputs": [],
   "source": []
  },
  {
   "cell_type": "code",
   "execution_count": null,
   "metadata": {},
   "outputs": [],
   "source": []
  }
 ],
 "metadata": {
  "kernelspec": {
   "display_name": "Python 3",
   "language": "python",
   "name": "python3"
  },
  "language_info": {
   "codemirror_mode": {
    "name": "ipython",
    "version": 3
   },
   "file_extension": ".py",
   "mimetype": "text/x-python",
   "name": "python",
   "nbconvert_exporter": "python",
   "pygments_lexer": "ipython3",
   "version": "3.8.8"
  }
 },
 "nbformat": 4,
 "nbformat_minor": 4
}
